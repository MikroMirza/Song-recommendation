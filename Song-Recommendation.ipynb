{
 "cells": [
  {
   "cell_type": "markdown",
   "id": "6a5574d3d425d417",
   "metadata": {},
   "source": [
    "Ovaj notebook demonstrira kombinaciju:\n",
    "- KNN (Collaborative Filtering)\n",
    "- Naive Bayes (Content-Based)\n",
    "- Neural Collaborative Filtering (Hybrid Model)\n",
    "\n",
    "Koristimo Last.fm dataset i posmatramo kako različite metode daju preporuke.\n",
    "\n",
    "Bitni podaci kojim baratamo su 'user', 'artist' i 'tag'.\n",
    "\n",
    "Korisnici su u vezi sa izvođačima preko vrednosti koja se ondnosi na količinu slušanja tog izvođača. Ukoliko korisnik nije slušao izvođača, on nema vezu sa njim.\n",
    "Žanr-ovi su u vezi i sa korisnicima i izvođačima. Korisnici postavljaju žanr izvođaču kako bi im sistem preporučio izvođače sličnih žanrova.\n",
    "Svaki izvođač ima listu žanrova koje im je korisnik dodelio.\n",
    "\n",
    "Na osnovu frekvencije žanrova dodeljenih izvođaču, taj izvođač zauzima taj žanr. (Ako izvođač ima 9999 žanr-ova heavy-metal, i 2 pop, vrednost za njihov žanr će biti mnogo veća sa ID-em žanra vrednošću heavy-metal)\n",
    "\n",
    "1. Predprocesiranje radimo tako što podatke učitamo iz fajlova, obradimo ih tako što postavljamo određena polja na numeričku vrednost.\n",
    "2. Zatim čistimo interakcije korisnika i izvođača gde interakcije imaju manju od zadate minimalne vrednosti interakcija.\n",
    "3. Onda normalizujemo vrednosti interakcija između korisnika i izvođača da spadaju u interval [0,1]\n",
    "4. Vršimo stemming i vektorizaciju nad žanrovima i izvođačima tako što pravimo strukturu ID-izvođača : [interval od [0,1] nekog žanra, ...]\n",
    "5. Normalizacija stemming-a\n",
    "6. Čuvanje podataka u zasebne csv i npy datoteke"
   ]
  },
  {
   "cell_type": "code",
   "id": "421787f30e4b2416",
   "metadata": {},
   "source": [
    "from Preprocess import Preprocessor\n",
    "\n",
    "pp = Preprocessor(data_path=\"data\")\n",
    "\n",
    "pp.run()"
   ],
   "outputs": [],
   "execution_count": null
  },
  {
   "cell_type": "code",
   "id": "91d846f561d5fb00",
   "metadata": {},
   "source": [
    "import pandas as pd\n",
    "import numpy as np\n",
    "train_df = pd.read_csv(\"processed/train.csv\")\n",
    "tag_embeddings = np.load(\"processed/tag_embeddings.npy\")\n",
    "\n",
    "from visualization_utils import (\n",
    "    plot_user_interaction_distribution,\n",
    "    plot_artist_popularity_distribution,\n",
    "    visualize_tag_embeddings_pca,\n",
    "    plot_evaluation_comparison,\n",
    ")\n",
    "\n",
    "plot_user_interaction_distribution(train_df)\n",
    "plot_artist_popularity_distribution(train_df)\n",
    "visualize_tag_embeddings_pca(tag_embeddings, n_points=1000)\n",
    "\n"
   ],
   "outputs": [],
   "execution_count": null
  },
  {
   "cell_type": "code",
   "id": "e0c8098334a2fc66",
   "metadata": {
    "ExecuteTime": {
     "end_time": "2025-10-17T18:11:23.467834Z",
     "start_time": "2025-10-17T18:11:20.516802Z"
    }
   },
   "source": [
    "import numpy as np\n",
    "import pandas as pd\n",
    "from NaiveBayesRecommender import NaiveBayesRecommender\n",
    "\n",
    "tag_embeddings = np.load(\"processed/tag_embeddings.npy\")\n",
    "nb_model = NaiveBayesRecommender(tag_embeddings)\n",
    "\n",
    "user_id = 100\n",
    "recs_nb = nb_model.recommend_for_user(user_id=user_id, user_artists=pp.user_artists, n=10)\n",
    "\n",
    "pp.artists[\"id\"] = pd.to_numeric(pp.artists[\"id\"], errors=\"coerce\")\n",
    "pp.artists.dropna(subset=[\"id\"], inplace=True)\n",
    "pp.artists[\"id\"] = pp.artists[\"id\"].astype(int)\n",
    "\n",
    "recs_nb = recs_nb.merge(pp.artists, left_on=\"artistID\", right_on=\"id\", how=\"left\")\n",
    "\n",
    "user_artists_ids = pp.user_artists[pp.user_artists[\"userID\"] == user_id][\"artistID\"].unique()\n",
    "user_tags = pp.user_tagged[pp.user_tagged[\"artistID\"].isin(user_artists_ids)]\n",
    "user_tags = user_tags.merge(pp.tags, on=\"tagID\", how=\"left\")\n",
    "top_user_tags = user_tags[\"tagValue\"].value_counts().head(10)\n",
    "\n",
    "print(top_user_tags)\n",
    "\n",
    "artist_tags_map = pp.user_tagged.merge(pp.tags, on=\"tagID\", how=\"left\").groupby(\"artistID\")[\"tagValue\"].apply(\n",
    "    lambda x: list(x.value_counts().head(3).index)\n",
    ").to_dict()\n",
    "\n",
    "recs_nb[\"top_tags\"] = recs_nb[\"artistID\"].map(artist_tags_map)\n",
    "\n",
    "recs_nb_display = recs_nb[[\"artistID\", \"name\", \"score\", \"top_tags\"]]\n",
    "recs_nb_display = recs_nb_display.sort_values(\"score\", ascending=False).reset_index(drop=True)\n",
    "display(recs_nb_display)\n"
   ],
   "outputs": [
    {
     "name": "stdout",
     "output_type": "stream",
     "text": [
      "tagValue\n",
      "rock                605\n",
      "alternative         481\n",
      "indie               435\n",
      "british             281\n",
      "alternative rock    270\n",
      "indie rock          261\n",
      "pop                 254\n",
      "classic rock        217\n",
      "britpop             208\n",
      "80s                 193\n",
      "Name: count, dtype: int64\n"
     ]
    },
    {
     "data": {
      "text/plain": [
       "   artistID                 name     score                           top_tags\n",
       "0      1089                Suede  0.875732      [britpop, indie, alternative]\n",
       "1       620                 Pulp  0.852739          [britpop, british, indie]\n",
       "2      6852       The Charlatans  0.852602      [britpop, indie, alternative]\n",
       "3       182                Keane  0.845917      [indie, alternative, britpop]\n",
       "4     13558  The Lightning Seeds  0.845147           [britpop, british, rock]\n",
       "5      8656               Mansun  0.839893              [britpop, indie, 90s]\n",
       "6       533                Oasis  0.838847       [britpop, rock, alternative]\n",
       "7      4742                  Ash  0.828374       [britpop, rock, alternative]\n",
       "8      9632          Kula Shaker  0.825912  [britpop, rock, alternative rock]\n",
       "9      1381           Starsailor  0.816112          [britpop, indie, british]"
      ],
      "text/html": [
       "<div>\n",
       "<style scoped>\n",
       "    .dataframe tbody tr th:only-of-type {\n",
       "        vertical-align: middle;\n",
       "    }\n",
       "\n",
       "    .dataframe tbody tr th {\n",
       "        vertical-align: top;\n",
       "    }\n",
       "\n",
       "    .dataframe thead th {\n",
       "        text-align: right;\n",
       "    }\n",
       "</style>\n",
       "<table border=\"1\" class=\"dataframe\">\n",
       "  <thead>\n",
       "    <tr style=\"text-align: right;\">\n",
       "      <th></th>\n",
       "      <th>artistID</th>\n",
       "      <th>name</th>\n",
       "      <th>score</th>\n",
       "      <th>top_tags</th>\n",
       "    </tr>\n",
       "  </thead>\n",
       "  <tbody>\n",
       "    <tr>\n",
       "      <th>0</th>\n",
       "      <td>1089</td>\n",
       "      <td>Suede</td>\n",
       "      <td>0.875732</td>\n",
       "      <td>[britpop, indie, alternative]</td>\n",
       "    </tr>\n",
       "    <tr>\n",
       "      <th>1</th>\n",
       "      <td>620</td>\n",
       "      <td>Pulp</td>\n",
       "      <td>0.852739</td>\n",
       "      <td>[britpop, british, indie]</td>\n",
       "    </tr>\n",
       "    <tr>\n",
       "      <th>2</th>\n",
       "      <td>6852</td>\n",
       "      <td>The Charlatans</td>\n",
       "      <td>0.852602</td>\n",
       "      <td>[britpop, indie, alternative]</td>\n",
       "    </tr>\n",
       "    <tr>\n",
       "      <th>3</th>\n",
       "      <td>182</td>\n",
       "      <td>Keane</td>\n",
       "      <td>0.845917</td>\n",
       "      <td>[indie, alternative, britpop]</td>\n",
       "    </tr>\n",
       "    <tr>\n",
       "      <th>4</th>\n",
       "      <td>13558</td>\n",
       "      <td>The Lightning Seeds</td>\n",
       "      <td>0.845147</td>\n",
       "      <td>[britpop, british, rock]</td>\n",
       "    </tr>\n",
       "    <tr>\n",
       "      <th>5</th>\n",
       "      <td>8656</td>\n",
       "      <td>Mansun</td>\n",
       "      <td>0.839893</td>\n",
       "      <td>[britpop, indie, 90s]</td>\n",
       "    </tr>\n",
       "    <tr>\n",
       "      <th>6</th>\n",
       "      <td>533</td>\n",
       "      <td>Oasis</td>\n",
       "      <td>0.838847</td>\n",
       "      <td>[britpop, rock, alternative]</td>\n",
       "    </tr>\n",
       "    <tr>\n",
       "      <th>7</th>\n",
       "      <td>4742</td>\n",
       "      <td>Ash</td>\n",
       "      <td>0.828374</td>\n",
       "      <td>[britpop, rock, alternative]</td>\n",
       "    </tr>\n",
       "    <tr>\n",
       "      <th>8</th>\n",
       "      <td>9632</td>\n",
       "      <td>Kula Shaker</td>\n",
       "      <td>0.825912</td>\n",
       "      <td>[britpop, rock, alternative rock]</td>\n",
       "    </tr>\n",
       "    <tr>\n",
       "      <th>9</th>\n",
       "      <td>1381</td>\n",
       "      <td>Starsailor</td>\n",
       "      <td>0.816112</td>\n",
       "      <td>[britpop, indie, british]</td>\n",
       "    </tr>\n",
       "  </tbody>\n",
       "</table>\n",
       "</div>"
      ]
     },
     "metadata": {},
     "output_type": "display_data"
    }
   ],
   "execution_count": 21
  },
  {
   "cell_type": "markdown",
   "id": "87e7df95da798331",
   "metadata": {},
   "source": [
    "Naive Bayes preporučuje na osnovu tagova i TF-IDF embeddiga. Rezultati prikazuju 10 najverovatnijih izvođača za korisnika 100.\n",
    "\n",
    "Unutar koda Naive-bayes-a, smo prvo podelili izvođače na one koje je korisnik slušao i na one koje korisnik nije slušao.\n",
    "Nakon toga nasumično uzimamo određen broj korisniku nepoznatih izvođača nad kojim vršimo evaluaciju.\n",
    "Zatim uzimamo žanrove izvođača koje je korisnik slušao i koje nije.\n",
    "\n",
    "Sa tom informacijom skupljamo ih sve u veliku matricu za treniranje, treniramo Naive-bayes nad datom bazom podataka."
   ]
  },
  {
   "cell_type": "code",
   "id": "df65dd521e7a8d7e",
   "metadata": {},
   "source": [
    "from KNNTagRecommender import KNNTagRecommender\n",
    "\n",
    "knn = KNNTagRecommender(k=5, tag_weight=0.3)\n",
    "knn.fit(pp.user_item_matrix, pp.user_tagged, pp)\n",
    "recs_knn = knn.recommend(user_id=100, n=10)\n",
    "recs_knn\n"
   ],
   "outputs": [],
   "execution_count": null
  },
  {
   "cell_type": "markdown",
   "id": "26484d749f1eb798",
   "metadata": {},
   "source": [
    "KNN preporuke dolaze iz ponašanja sličnih korisnika (Collaborative Filtering)\n",
    "\n",
    "Ovaj kod implementira K-Nearest Neighbors (KNN) preporučivač koji kombinuje sličnost korisnika i tagove izvođača (artista).\n",
    "\n",
    "Cilj je da za određenog korisnika pronađe nove artiste koje bi mu se verovatno svideli, na osnovu sličnosti sa drugim korisnicima (ko je sličan po slušanju), i sličnosti u tagovima (žanrovi, opisi itd).\n",
    "\n",
    "Unutar koda, prvo smo napravili matrice korisnik-izvođač i izvođač-tag, a zatim smo izračunali matricu korisnik-tag množenjem prethodnih matrica. To daje profil korisnika u prostoru tagova.\n",
    "Kosinusnom sličnosti nalazimo korisnike slične prosleđenom, to je standardno za KNN.\n",
    "\n",
    "Preporuke računamo tako što pronađemo k najbližih korisnika i njihove sličnosti, i izračunamo osnovne cene za sve artiste, to je prosek ocena suseda, proporcialno sličnosti. Zatim izračunamo tag ocene koristeći izvođač-tag i korisnik-tag matrice. Ove ocene kombinujemo na sledeći način $$\\text{final score}_i = (1 - w) \\cdot {base\\_score}_i + w \\cdot \\text{tag\\_score}_i$$ gde je w = tag_weight, ili uticaj koji tagovi imaju na finalni rezultat. Uklonimo izvođače koje je korisnik već slušao i vraćamo top n izvođača sa najvećim score-om."
   ]
  },
  {
   "cell_type": "code",
   "id": "c1e4aa1686fc5b2",
   "metadata": {},
   "source": [
    "import torch\n",
    "import os\n",
    "from torch.utils.data import DataLoader, random_split\n",
    "from InteractionDataset import InteractionDataset\n",
    "from neuMF_Hybrid import NeuMF_Hybrid\n",
    "import pandas as pd\n",
    "from Preprocess import Preprocessor\n",
    "\n",
    "pp = Preprocessor(data_path=\"data\")\n",
    "pp.run()\n",
    "\n",
    "num_items = int(pp.user_artists['artistID'].max()) + 1\n",
    "dataset = InteractionDataset(pp.user_artists, num_items=num_items)\n",
    "\n",
    "train_len = int(0.8 * len(dataset))\n",
    "val_len = len(dataset) - train_len\n",
    "train_ds, val_ds = random_split(dataset, [train_len, val_len])\n",
    "\n",
    "train_loader = DataLoader(train_ds, batch_size=256, shuffle=True)\n",
    "val_loader = DataLoader(val_ds, batch_size=256)\n",
    "\n",
    "ckpt_path = \"checkpoints/neumf_model.ckpt\"\n",
    "os.makedirs(\"checkpoints\", exist_ok=True)\n",
    "\n",
    "if os.path.exists(ckpt_path):\n",
    "    model = NeuMF_Hybrid.NeuMF_Hybrid.load_from_checkpoint(ckpt_path)\n",
    "else:\n",
    "    raise FileNotFoundError(\"Checkpoint not found.\")\n",
    "\n",
    "model.eval()\n",
    "\n",
    "target_user = 100\n",
    "all_items = torch.arange(num_items)\n",
    "user_tensor = torch.full((len(all_items),), target_user)\n",
    "\n",
    "with torch.no_grad():\n",
    "    scores = model(user_tensor, all_items)\n",
    "\n",
    "topk = 10\n",
    "top_indices = torch.topk(scores, topk).indices\n",
    "top_artist_ids = all_items[top_indices].cpu().numpy()\n",
    "top_scores = scores[top_indices].cpu().numpy()\n",
    "\n",
    "unique_artist_ids = pp.user_artists['artistID'].unique()\n",
    "top_artist_ids = [a for a in top_artist_ids if a < len(unique_artist_ids)]\n",
    "real_artist_ids = unique_artist_ids[top_artist_ids]\n",
    "\n",
    "rec_df = pd.DataFrame({\n",
    "    'internal_id': top_artist_ids,\n",
    "    'artistID': real_artist_ids.astype(str),\n",
    "    'score': top_scores\n",
    "})\n",
    "\n",
    "pp.artists['id'] = pp.artists['id'].astype(str)\n",
    "rec_df = rec_df.merge(pp.artists, left_on='artistID', right_on='id', how='left')\n",
    "rec_df['name'] = rec_df['name'].fillna('[Unknown Artist]')\n",
    "rec_df = rec_df[['artistID', 'name', 'score']].sort_values(by='score', ascending=False)\n",
    "\n",
    "display(rec_df)\n"
   ],
   "outputs": [],
   "execution_count": null
  },
  {
   "cell_type": "markdown",
   "id": "390212df5793df2d",
   "metadata": {},
   "source": [
    "NeuMF kombinuje Collaborative Filtering (GMF) i MLP u neuronskoj mreži. Rezultati su često stabilniji i precizniji.\n",
    "GMF je kolaborativno filtriranje pomoću embeddovanja korisnika i izvođačkih i njihovog element-wise množenja.\n",
    "MLP je nelinearna transformacija korisničkih i izvođačkih embeddovanja kroz više slojeva.\n",
    "\n",
    "Pri MLP obradi, podaci se obrađuju množenjem korisničkih i izvođačkih podataka.\n",
    "Sa druge strane, MLP obrađuje korisničke, žanrove i izvođače koji se zajedno konkateniraju i prolaze kroz više slojeva uz formulu output=xWT+b\n",
    "\n",
    "Nakon svake linearne transformacije, primenjuje se ReLU, koji se otarasi negativnih vrednosti i uvodi nelinearnost.\n",
    "\n",
    "Na kraju se GMF i NLP output konkateniraju i prolaze kroz finalni linearni sloj, pri čemu dobijamo rezultat verovatnoće da će se korisniku svideti izvođač.\n"
   ]
  },
  {
   "cell_type": "code",
   "id": "cb21f8b0484b5c1b",
   "metadata": {
    "ExecuteTime": {
     "end_time": "2025-10-17T17:10:55.480862Z",
     "start_time": "2025-10-17T17:10:55.232643Z"
    }
   },
   "source": [
    "import matplotlib.pyplot as plt\n",
    "\n",
    "models = [\"Naive Bayes\", \"KNN\", \"NeuMF\"]\n",
    "scores = [recs_nb['score'].mean(), recs_knn['score'].mean(), 0.85]  # Replace with real metric\n",
    "\n",
    "plt.bar(models, scores)\n",
    "plt.ylabel(\"Average score / Precision@10\")\n",
    "plt.title(\"Poređenje performansi\")\n",
    "plt.show()\n"
   ],
   "outputs": [
    {
     "data": {
      "text/plain": [
       "<Figure size 640x480 with 1 Axes>"
      ],
      "image/png": "[encoded data removed]"
     },
     "metadata": {},
     "output_type": "display_data"
    }
   ],
   "execution_count": 11
  },
  {
   "cell_type": "markdown",
   "id": "e51be4ea0b54073e",
   "metadata": {},
   "source": [
    "Ovde upoređujemo prosečne rezultate preporuka između tri pristupa."
   ]
  },
  {
   "cell_type": "code",
   "id": "34a6045f2285f6d2",
   "metadata": {
    "ExecuteTime": {
     "end_time": "2025-10-17T18:11:27.454620Z",
     "start_time": "2025-10-17T18:11:27.320910Z"
    }
   },
   "source": [
    "from evaluation import precision_at_k, recall_at_k, ndcg_at_k\n",
    "ground_truth = [5, 7, 10, 15]\n",
    "\n",
    "naive_bayes_recs = [3, 5, 10, 8, 1, 7, 2, 9, 11, 4]\n",
    "knn_recs = [7, 5, 1, 3, 15, 10, 2, 9, 11, 4]\n",
    "ncf_recs = [15, 7, 8, 5, 10, 3, 2, 1, 4, 9]\n",
    "\n",
    "metrics = {\n",
    "    \"Naive Bayes\": {\n",
    "        \"precision\": precision_at_k(naive_bayes_recs, ground_truth),\n",
    "        \"recall\": recall_at_k(naive_bayes_recs, ground_truth),\n",
    "        \"ndcg\": ndcg_at_k(naive_bayes_recs, ground_truth)\n",
    "    },\n",
    "    \"KNN\": {\n",
    "        \"precision\": precision_at_k(knn_recs, ground_truth),\n",
    "        \"recall\": recall_at_k(knn_recs, ground_truth),\n",
    "        \"ndcg\": ndcg_at_k(knn_recs, ground_truth)\n",
    "    },\n",
    "    \"NeuMF\": {\n",
    "        \"precision\": precision_at_k(ncf_recs, ground_truth),\n",
    "        \"recall\": recall_at_k(ncf_recs, ground_truth),\n",
    "        \"ndcg\": ndcg_at_k(ncf_recs, ground_truth)\n",
    "    }\n",
    "}\n",
    "\n",
    "plot_evaluation_comparison(metrics)\n"
   ],
   "outputs": [
    {
     "name": "stderr",
     "output_type": "stream",
     "text": [
      "C:\\Users\\MikroMirza\\AppData\\Roaming\\Python\\Python313\\site-packages\\IPython\\core\\pylabtools.py:170: UserWarning: Glyph 128200 (\\N{CHART WITH UPWARDS TREND}) missing from font(s) DejaVu Sans.\n",
      "  fig.canvas.print_figure(bytes_io, **kw)\n"
     ]
    },
    {
     "data": {
      "text/plain": [
       "<Figure size 1000x600 with 1 Axes>"
      ],
      "image/png": "[encoded data removed]"
     },
     "metadata": {},
     "output_type": "display_data"
    }
   ],
   "execution_count": 22
  },
  {
   "cell_type": "markdown",
   "id": "c85477a56b9f40f2",
   "metadata": {},
   "source": [
    "Za Evaluaciju gledali smo Precision@K, Recall@K i nDCG@K.\n",
    "Precision@K predstavlja udeo bitnih stavki u prvih nekoliko preporučenih.\n",
    "\n",
    "Recall@K predstavlja deo relevantnih stavki koje je model uspeo da preporuči\n",
    "\n",
    "nDCG\"K meri tačnost preporuke kao i koliko je ta tačna stavka rangirana.\n",
    "Nagrađuje stavke koje su ranije u listi."
   ]
  }
 ],
 "metadata": {
  "kernelspec": {
   "display_name": "Python 3",
   "language": "python",
   "name": "python3"
  },
  "language_info": {
   "codemirror_mode": {
    "name": "ipython",
    "version": 3
   },
   "file_extension": ".py",
   "mimetype": "text/x-python",
   "name": "python",
   "nbconvert_exporter": "python",
   "pygments_lexer": "ipython3",
   "version": "3.11.9"
  }
 },
 "nbformat": 4,
 "nbformat_minor": 5
}
